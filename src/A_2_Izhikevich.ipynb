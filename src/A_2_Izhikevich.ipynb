{
 "cells": [
  {
   "cell_type": "markdown",
   "metadata": {},
   "source": [
    "In this first notebook, we will go from the installation of the [PyNN](http://neuralensemble.org/docs/PyNN/index.html) neural desriptor to the display of the simulation of Izhikevich neurons."
   ]
  },
  {
   "cell_type": "code",
   "execution_count": null,
   "metadata": {
    "collapsed": false
   },
   "outputs": [],
   "source": [
    "%matplotlib inline\n",
    "import matplotlib.pyplot as plt\n",
    "import numpy as np\n",
    "fig_width = 15\n",
    "phi = (np.sqrt(5)+1)/2"
   ]
  },
  {
   "cell_type": "markdown",
   "metadata": {},
   "source": [
    "# A selection of Izhikevich neurons\n",
    "\n",
    "using nengo: https://www.nengo.ai/\n"
   ]
  },
  {
   "cell_type": "code",
   "execution_count": null,
   "metadata": {},
   "outputs": [],
   "source": [
    "import nengo\n",
    "from nengo.utils.ensemble import tuning_curves\n",
    "from nengo.utils.matplotlib import rasterplot\n",
    "\n",
    "with nengo.Network(seed=0) as model:\n",
    "    u = nengo.Node(lambda t: np.sin(2 * np.pi * t))\n",
    "    ens = nengo.Ensemble(10, dimensions=1, neuron_type=nengo.Izhikevich())\n",
    "    nengo.Connection(u, ens)\n",
    "\n",
    "with model:\n",
    "    out_p = nengo.Probe(ens, synapse=0.03)\n",
    "    spikes_p = nengo.Probe(ens.neurons)\n",
    "    voltage_p = nengo.Probe(ens.neurons, 'voltage')\n",
    "    recovery_p = nengo.Probe(ens.neurons, 'recovery')\n",
    "\n",
    "with nengo.Simulator(model) as sim:\n",
    "    sim.run(1.0)\n",
    "\n",
    "t = sim.trange()\n",
    "plt.figure(figsize=(12, 6))\n",
    "plt.subplot(2, 1, 1)\n",
    "plt.plot(t, sim.data[out_p])\n",
    "plt.ylabel(\"Decoded output\")\n",
    "ax = plt.subplot(2, 1, 2)\n",
    "rasterplot(t, sim.data[spikes_p], ax=ax)\n",
    "plt.ylabel(\"Neuron\");"
   ]
  },
  {
   "cell_type": "code",
   "execution_count": null,
   "metadata": {},
   "outputs": [],
   "source": [
    "def izh_plot(sim):\n",
    "    t = sim.trange()\n",
    "    plt.figure(figsize=(12, 10))\n",
    "    plt.subplot(4, 1, 1)\n",
    "    plt.plot(t, sim.data[out_p])\n",
    "    plt.ylabel(\"Decoded output\")\n",
    "    plt.xlim(right=t[-1])\n",
    "    ax = plt.subplot(4, 1, 2)\n",
    "    rasterplot(t, sim.data[spikes_p], ax=ax)\n",
    "    plt.ylabel(\"Neuron\")\n",
    "    plt.xlim(right=t[-1])\n",
    "    plt.subplot(4, 1, 3)\n",
    "    plt.plot(t, sim.data[voltage_p])\n",
    "    plt.ylabel(\"Voltage\")\n",
    "    plt.xlim(right=t[-1])\n",
    "    plt.subplot(4, 1, 4)\n",
    "    plt.plot(t, sim.data[recovery_p])\n",
    "    plt.ylabel(\"Recovery\")\n",
    "    plt.xlim(right=t[-1])\n",
    "\n",
    "\n",
    "u.output = 0.2\n",
    "with nengo.Simulator(model) as sim:\n",
    "    sim.run(0.1)\n",
    "izh_plot(sim)"
   ]
  },
  {
   "cell_type": "markdown",
   "metadata": {},
   "source": [
    "# A selection of Izhikevich neurons\n",
    "\n",
    "using brian: http://briansimulator.org/\n"
   ]
  },
  {
   "cell_type": "markdown",
   "metadata": {},
   "source": [
    "Configure the simulator:"
   ]
  },
  {
   "cell_type": "code",
   "execution_count": null,
   "metadata": {},
   "outputs": [],
   "source": [
    "from brian2 import *\n"
   ]
  },
  {
   "cell_type": "code",
   "execution_count": null,
   "metadata": {},
   "outputs": [],
   "source": [
    "a = 0.02/ms; b = 0.2/ms\n",
    "eqs = '''dv/dt = (0.04/ms/mV)*v**2+(5/ms)*v+140*mV/ms-w + I : volt\n",
    "         dw/dt = a*(b*v-w) : volt/second\n",
    "         I : volt/second'''\n",
    "P = NeuronGroup(400, eqs, threshold='v>-50*mV', reset='v=-60*mV')\n",
    "P.v = -20*mV\n",
    "Pe = P[:320]\n",
    "Pi = P[320:]\n",
    "Ce = Synapses(Pe, P, on_pre='I+=200*mV/second')\n",
    "Ce.connect(p=0.02)\n",
    "Ci = Synapses(Pi, P, on_pre='I-=9*mV/second')\n",
    "Ci.connect(p=0.02)\n",
    "M = SpikeMonitor(P)\n",
    "run(1*second)\n",
    "plot(M.t/ms, M.i, '.')"
   ]
  },
  {
   "cell_type": "markdown",
   "metadata": {},
   "source": [
    "# using pyNN\n",
    "\n",
    "adapted from http://neuralensemble.org/docs/PyNN/examples/Izhikevich.html"
   ]
  },
  {
   "cell_type": "code",
   "execution_count": null,
   "metadata": {},
   "outputs": [],
   "source": [
    "import pyNN.brian2 as sim\n",
    "sim.setup(timestep=0.01, min_delay=0.1)\n",
    "neuron_type = sim.Izhikevich()\n",
    "cells = sim.Population(1, neuron_type)\n",
    "\n",
    "dc_source = sim.DCSource(amplitude=0.5, start=25, stop=50)\n",
    "ac_source = sim.ACSource(start=75, stop=125, amplitude=0.5, offset=0.25, frequency=100.0, phase=0.0)\n",
    "noisy_source = sim.NoisyCurrentSource(mean=0.5, stdev=0.05, start=150, stop=175, dt=1.0)\n",
    "step_source = sim.StepCurrentSource(times=[200, 225, 250], amplitudes=[0.4, 0.6, 0.2])\n",
    "\n",
    "cells[0].inject(dc_source)\n",
    "cells[0].inject(ac_source)\n",
    "cells[0].inject(noisy_source)\n",
    "cells[0].inject(step_source)\n",
    "\n",
    "dc_source.record()\n",
    "ac_source.record()\n",
    "noisy_source.record()\n",
    "step_source.record()\n",
    "\n",
    "cells.record(['v'])\n",
    "\n",
    "sim.run(275.0)"
   ]
  },
  {
   "cell_type": "code",
   "execution_count": null,
   "metadata": {},
   "outputs": [],
   "source": [
    "if '--plot-figure' in sys.argv:\n",
    "    import matplotlib.pyplot as plt\n",
    "    plt.ion()\n",
    "\n",
    "    plt.figure(figsize=(8,8))\n",
    "\n",
    "    plt.subplot(2,1,1)\n",
    "    vm = cells.get_data().segments[0].filter(name=\"v\")[0]\n",
    "    plt.plot(vm.times, vm, 'r')\n",
    "    plt.xlabel(\"time (ms)\")\n",
    "    plt.ylabel(\"Vm (mV)\")\n",
    "\n",
    "    plt.subplot(2,1,2)\n",
    "    i_t_dc, i_amp_dc = dc_source._get_data()\n",
    "    i_t_ac, i_amp_ac = ac_source._get_data()\n",
    "    i_t_noisy, i_amp_noisy = noisy_source._get_data()\n",
    "    i_t_step, i_amp_step = step_source._get_data()\n",
    "    plt.plot(i_t_dc, i_amp_dc, 'k')\n",
    "    plt.plot(i_t_ac, i_amp_ac, 'k')\n",
    "    plt.plot(i_t_noisy, i_amp_noisy, 'k')\n",
    "    plt.plot(i_t_step, i_amp_step, 'k')\n",
    "    plt.xlabel(\"time (ms)\")\n",
    "    plt.ylabel(\"current (nA)\")\n",
    "\n",
    "    plt.suptitle(simulator_name, fontsize=15)\n",
    "    plt.show(block=True)  # SA: changed\n",
    "end()"
   ]
  },
  {
   "cell_type": "code",
   "execution_count": null,
   "metadata": {},
   "outputs": [],
   "source": [
    "import pyNN.brian2 as sim\n",
    "#import pyNN.spinnaker as sim\n",
    "sim.setup(timestep=0.01, min_delay=1.0)"
   ]
  },
  {
   "cell_type": "code",
   "execution_count": null,
   "metadata": {},
   "outputs": [],
   "source": [
    "# === Build and instrument the network =======================================\n",
    "spike_source = sim.Population(1, sim.SpikeSourceArray(spike_times=np.arange(10.0, 51, 1)))\n",
    "\n",
    "neurons = sim.Population(3, sim.Izhikevich(a=0.02, b=0.2, c=-65, d=6, i_offset=[0.014, 0.0, 0.0]))\n",
    "\n",
    "connection = sim.Projection(spike_source, neurons[1:2], sim.OneToOneConnector(),\n",
    "                            sim.StaticSynapse(weight=3.0, delay=1.0),\n",
    "                            receptor_type='excitatory'),\n",
    "\n",
    "# perturb\n",
    "electrode = sim.DCSource(start=2.0, stop=92.0, amplitude=0.014)\n",
    "electrode.inject_into(neurons[2:3])\n",
    "\n",
    "# record\n",
    "neurons.record(['v'])  # , 'u'])\n",
    "neurons.initialize(v=-70.0, u=-14.0)"
   ]
  },
  {
   "cell_type": "code",
   "execution_count": null,
   "metadata": {},
   "outputs": [],
   "source": [
    "# === Run the simulation =====================================================\n",
    "\n",
    "sim.run(100.0)"
   ]
  },
  {
   "cell_type": "code",
   "execution_count": null,
   "metadata": {},
   "outputs": [],
   "source": [
    "# === plot a figure =============================\n",
    "\n",
    "from pyNN.utility.plotting import Figure, Panel\n",
    "data = neurons.get_data().segments[0]\n",
    "v = data.filter(name=\"v\")[0]\n",
    "#u = data.filter(name=\"u\")[0]\n",
    "fig = Figure(\n",
    "    Panel(v, ylabel=\"Membrane potential (mV)\", xticks=True,\n",
    "          xlabel=\"Time (ms)\", yticks=True),\n",
    "    #Panel(u, ylabel=\"u variable (units?)\"),    \n",
    ")\n",
    "# === Clean up and quit ========================================================\n",
    "\n",
    "sim.end()"
   ]
  },
  {
   "cell_type": "code",
   "execution_count": null,
   "metadata": {},
   "outputs": [],
   "source": []
  }
 ],
 "metadata": {
  "kernelspec": {
   "display_name": "Python 3",
   "language": "python",
   "name": "python3"
  },
  "language_info": {
   "codemirror_mode": {
    "name": "ipython",
    "version": 3
   },
   "file_extension": ".py",
   "mimetype": "text/x-python",
   "name": "python",
   "nbconvert_exporter": "python",
   "pygments_lexer": "ipython3",
   "version": "3.7.3"
  }
 },
 "nbformat": 4,
 "nbformat_minor": 2
}
